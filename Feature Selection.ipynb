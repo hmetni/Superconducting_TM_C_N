{
 "cells": [
  {
   "cell_type": "markdown",
   "metadata": {},
   "source": [
    "## Feature Selection\n",
    "\n",
    "The feature selection methods used in this work are: \n",
    " - The Variance Threshold method, to remove zero-variance features: https://scikit-learn.org/stable/modules/generated/sklearn.feature_selection.VarianceThreshold.html\n",
    " \n",
    " - The Mutual Information Score, to select the first 10 features: https://scikit-learn.org/stable/modules/generated/sklearn.feature_selection.mutual_info_regression.html\n",
    " \n",
    " - The Feature Importance Score calculated by the RandomForest algorithm, to select 2 potentially important features missed by the previous method: https://scikit-learn.org/stable/auto_examples/ensemble/plot_forest_importances.html"
   ]
  },
  {
   "cell_type": "code",
   "execution_count": 1,
   "metadata": {},
   "outputs": [],
   "source": [
    "# importing packages\n",
    "import pandas as pd\n",
    "import numpy as np\n",
    "import sklearn\n",
    "import matplotlib.pyplot as plt\n",
    "from sklearn.ensemble import RandomForestRegressor\n",
    "from sklearn.model_selection import train_test_split\n",
    "from sklearn.feature_selection import VarianceThreshold, mutual_info_regression\n",
    "import warnings\n",
    "warnings.filterwarnings('ignore')"
   ]
  },
  {
   "cell_type": "code",
   "execution_count": 2,
   "metadata": {},
   "outputs": [],
   "source": [
    "# reading csv file and selecting relevant columns\n",
    "df = pd.read_csv('dataset_features.csv')\n",
    "excluded = [\"Tc\", \"compound\", \"composition\",'elements']\n",
    "X = df.drop(excluded, axis=1)\n",
    "y = df['Tc'].values"
   ]
  },
  {
   "cell_type": "code",
   "execution_count": 3,
   "metadata": {},
   "outputs": [
    {
     "name": "stdout",
     "output_type": "stream",
     "text": [
      "Number of zero-variance features : 19\n",
      "\n",
      "MagpieData minimum Row\n",
      "MagpieData maximum NsValence\n",
      "MagpieData minimum NpValence\n",
      "MagpieData minimum NdValence\n",
      "MagpieData minimum NfValence\n",
      "MagpieData mode NfValence\n",
      "MagpieData minimum NsUnfilled\n",
      "MagpieData minimum NpUnfilled\n",
      "MagpieData minimum NdUnfilled\n",
      "MagpieData minimum NfUnfilled\n",
      "MagpieData maximum NfUnfilled\n",
      "MagpieData range NfUnfilled\n",
      "MagpieData mean NfUnfilled\n",
      "MagpieData avg_dev NfUnfilled\n",
      "MagpieData mode NfUnfilled\n",
      "MagpieData minimum GSbandgap\n",
      "MagpieData minimum GSmagmom\n",
      "MagpieData mode GSmagmom\n",
      "MagpieData minimum SpaceGroupNumber\n"
     ]
    }
   ],
   "source": [
    "# removing zero-variance features using the variance threshold method\n",
    "var_thr = VarianceThreshold(threshold = 0)\n",
    "var_thr.fit_transform(X)\n",
    "\n",
    "concol = [column for column in X.columns if column not in X.columns[var_thr.get_support()]]\n",
    "\n",
    "print(f'Number of zero-variance features : {len(concol)}\\n')\n",
    "for features in concol:\n",
    "    print(features)"
   ]
  },
  {
   "cell_type": "code",
   "execution_count": 4,
   "metadata": {
    "scrolled": true
   },
   "outputs": [
    {
     "data": {
      "text/html": [
       "<div>\n",
       "<style scoped>\n",
       "    .dataframe tbody tr th:only-of-type {\n",
       "        vertical-align: middle;\n",
       "    }\n",
       "\n",
       "    .dataframe tbody tr th {\n",
       "        vertical-align: top;\n",
       "    }\n",
       "\n",
       "    .dataframe thead th {\n",
       "        text-align: right;\n",
       "    }\n",
       "</style>\n",
       "<table border=\"1\" class=\"dataframe\">\n",
       "  <thead>\n",
       "    <tr style=\"text-align: right;\">\n",
       "      <th></th>\n",
       "      <th>Coefficient</th>\n",
       "    </tr>\n",
       "  </thead>\n",
       "  <tbody>\n",
       "    <tr>\n",
       "      <th>MagpieData range MendeleevNumber</th>\n",
       "      <td>0.630043</td>\n",
       "    </tr>\n",
       "    <tr>\n",
       "      <th>MagpieData avg_dev CovalentRadius</th>\n",
       "      <td>0.593411</td>\n",
       "    </tr>\n",
       "    <tr>\n",
       "      <th>a</th>\n",
       "      <td>0.573869</td>\n",
       "    </tr>\n",
       "    <tr>\n",
       "      <th>MagpieData mean GSvolume_pa</th>\n",
       "      <td>0.559791</td>\n",
       "    </tr>\n",
       "    <tr>\n",
       "      <th>MagpieData range Electronegativity</th>\n",
       "      <td>0.544154</td>\n",
       "    </tr>\n",
       "    <tr>\n",
       "      <th>MagpieData avg_dev Number</th>\n",
       "      <td>0.498249</td>\n",
       "    </tr>\n",
       "    <tr>\n",
       "      <th>MagpieData mean CovalentRadius</th>\n",
       "      <td>0.493282</td>\n",
       "    </tr>\n",
       "    <tr>\n",
       "      <th>MagpieData avg_dev Row</th>\n",
       "      <td>0.487205</td>\n",
       "    </tr>\n",
       "    <tr>\n",
       "      <th>MagpieData mean Number</th>\n",
       "      <td>0.477378</td>\n",
       "    </tr>\n",
       "    <tr>\n",
       "      <th>MagpieData range CovalentRadius</th>\n",
       "      <td>0.459039</td>\n",
       "    </tr>\n",
       "    <tr>\n",
       "      <th>MagpieData mean Row</th>\n",
       "      <td>0.456929</td>\n",
       "    </tr>\n",
       "    <tr>\n",
       "      <th>MagpieData avg_dev AtomicWeight</th>\n",
       "      <td>0.450570</td>\n",
       "    </tr>\n",
       "  </tbody>\n",
       "</table>\n",
       "</div>"
      ],
      "text/plain": [
       "                                    Coefficient\n",
       "MagpieData range MendeleevNumber       0.630043\n",
       "MagpieData avg_dev CovalentRadius      0.593411\n",
       "a                                      0.573869\n",
       "MagpieData mean GSvolume_pa            0.559791\n",
       "MagpieData range Electronegativity     0.544154\n",
       "MagpieData avg_dev Number              0.498249\n",
       "MagpieData mean CovalentRadius         0.493282\n",
       "MagpieData avg_dev Row                 0.487205\n",
       "MagpieData mean Number                 0.477378\n",
       "MagpieData range CovalentRadius        0.459039\n",
       "MagpieData mean Row                    0.456929\n",
       "MagpieData avg_dev AtomicWeight        0.450570"
      ]
     },
     "execution_count": 4,
     "metadata": {},
     "output_type": "execute_result"
    }
   ],
   "source": [
    "# selecting the top 10 features with the highest mutual information score\n",
    "coeff_df =pd.DataFrame(mutual_info_regression(X, y, random_state=4).reshape(-1, 1),\n",
    "                         columns=['Coefficient'], index=X.columns)\n",
    "X_mi = X[coeff_df.sort_values(by='Coefficient',ascending=False)[:10].index]\n",
    "coeff_df.sort_values(by='Coefficient',ascending=False)[:12]"
   ]
  },
  {
   "cell_type": "code",
   "execution_count": 5,
   "metadata": {},
   "outputs": [
    {
     "data": {
      "image/png": "[encoded data removed]",
      "text/plain": [
       "<Figure size 432x288 with 1 Axes>"
      ]
     },
     "metadata": {
      "needs_background": "light"
     },
     "output_type": "display_data"
    }
   ],
   "source": [
    "# training a randomforest regressor to use the feature importance scores\n",
    "X_train, X_test, y_train, y_test = train_test_split(X, y, test_size=0.33, random_state=42)\n",
    "model = RandomForestRegressor(n_estimators=50, random_state=1)\n",
    "model.fit(X_train, y_train)\n",
    "importances = model.feature_importances_\n",
    "indices = np.argsort(-importances)[:10]\n",
    "\n",
    "plt.title('Feature Importances')\n",
    "plt.barh(range(len(indices)), importances[indices], color='b', align='center')\n",
    "plt.yticks(range(len(indices)), [X.columns[i] for i in indices])\n",
    "plt.xlabel('Relative Importance')\n",
    "plt.show()"
   ]
  },
  {
   "cell_type": "code",
   "execution_count": null,
   "metadata": {},
   "outputs": [],
   "source": []
  }
 ],
 "metadata": {
  "@webio": {
   "lastCommId": null,
   "lastKernelId": null
  },
  "kernelspec": {
   "display_name": "umd",
   "language": "python",
   "name": "umd"
  },
  "language_info": {
   "codemirror_mode": {
    "name": "ipython",
    "version": 3
   },
   "file_extension": ".py",
   "mimetype": "text/x-python",
   "name": "python",
   "nbconvert_exporter": "python",
   "pygments_lexer": "ipython3",
   "version": "3.7.12"
  }
 },
 "nbformat": 4,
 "nbformat_minor": 4
}
